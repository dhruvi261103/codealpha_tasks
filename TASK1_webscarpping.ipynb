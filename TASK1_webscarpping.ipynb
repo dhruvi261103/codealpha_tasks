{
  "nbformat": 4,
  "nbformat_minor": 0,
  "metadata": {
    "colab": {
      "provenance": []
    },
    "kernelspec": {
      "name": "python3",
      "display_name": "Python 3"
    },
    "language_info": {
      "name": "python"
    }
  },
  "cells": [
    {
      "cell_type": "code",
      "execution_count": null,
      "metadata": {
        "colab": {
          "base_uri": "https://localhost:8080/"
        },
        "id": "TV_q7toue8Mt",
        "outputId": "008f187c-5a5b-4e56-f092-38ba99df1af5"
      },
      "outputs": [
        {
          "output_type": "stream",
          "name": "stdout",
          "text": [
            "Scraping page 1 ...\n",
            "Scraping page 2 ...\n",
            "Scraping page 3 ...\n",
            "Scraping page 4 ...\n",
            "Scraping page 5 ...\n",
            "\n",
            "✅ Scraped 100 books with price converted to INR!\n",
            "CSV file saved at: /content/books_data.csv\n"
          ]
        }
      ],
      "source": [
        "import requests\n",
        "from bs4 import BeautifulSoup\n",
        "import csv\n",
        "import time\n",
        "import re\n",
        "\n",
        "def scrape_books_from_page(url, exchange_rate=100):\n",
        "    \"\"\"Scrape book data from a single page URL and convert price to INR.\"\"\"\n",
        "    response = requests.get(url)\n",
        "    if response.status_code != 200:\n",
        "        print(f\"Failed to retrieve {url}\")\n",
        "        return []\n",
        "\n",
        "    soup = BeautifulSoup(response.text, 'html.parser')\n",
        "    books = soup.find_all('article', class_='product_pod')\n",
        "\n",
        "    page_data = []\n",
        "    for book in books:\n",
        "        title = book.h3.a['title']\n",
        "\n",
        "        # Get price string and extract numeric part\n",
        "        price_str = book.find('p', class_='price_color').get_text()  # e.g. \"£51.77\"\n",
        "        price_num = float(re.sub(r'[^\\d.]', '', price_str))  # Extract number\n",
        "\n",
        "        # Convert to INR and format with ₹ symbol\n",
        "        price_inr = price_num * exchange_rate\n",
        "        price = f\"₹{price_inr:.2f}\"\n",
        "\n",
        "        rating = book.p['class'][1]  # e.g. 'One', 'Two', ...\n",
        "        page_data.append([title, price, rating])\n",
        "    return page_data\n",
        "\n",
        "def scrape_multiple_pages(base_url, pages=3, exchange_rate=100):\n",
        "    \"\"\"Scrape multiple pages of the site with price conversion.\"\"\"\n",
        "    all_books = []\n",
        "    for page_num in range(1, pages + 1):\n",
        "        if page_num == 1:\n",
        "            url = base_url\n",
        "        else:\n",
        "            url = f\"{base_url}catalogue/page-{page_num}.html\"\n",
        "\n",
        "        print(f\"Scraping page {page_num} ...\")\n",
        "        books = scrape_books_from_page(url, exchange_rate)\n",
        "        all_books.extend(books)\n",
        "\n",
        "        time.sleep(1)  # polite delay between requests\n",
        "\n",
        "    return all_books\n",
        "\n",
        "# Base URL of the site\n",
        "base_url = \"http://books.toscrape.com/\"\n",
        "\n",
        "# Set your exchange rate here (GBP to INR)\n",
        "exchange_rate = 113.56\n",
        "\n",
        "# Scrape first 5 pages with currency conversion\n",
        "books_data = scrape_multiple_pages(base_url, pages=5, exchange_rate=exchange_rate)\n",
        "\n",
        "# Save data to CSV in Colab environment\n",
        "csv_filename = \"/content/books_data.csv\"\n",
        "with open(csv_filename, 'w', newline='', encoding='utf-8-sig') as file:\n",
        "    writer = csv.writer(file)\n",
        "    writer.writerow(['Title', 'Price (INR)', 'Rating'])\n",
        "    writer.writerows(books_data)\n",
        "\n",
        "print(f\"\\n✅ Scraped {len(books_data)} books with price converted to INR!\")\n",
        "print(f\"CSV file saved at: {csv_filename}\")\n"
      ]
    }
  ]
}